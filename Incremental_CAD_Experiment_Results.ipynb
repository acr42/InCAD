{
 "cells": [
  {
   "cell_type": "markdown",
   "metadata": {},
   "source": [
    "# Towards Incremental Cylindrical Algebraic Decomposition\n"
   ]
  },
  {
   "cell_type": "markdown",
   "metadata": {},
   "source": [
    " "
   ]
  },
  {
   "cell_type": "markdown",
   "metadata": {},
   "source": [
    "## Experiment Introduction\n",
    "\n",
    "These xperiment Results to accompany the paper published \"Towards Incremental Cylindrical Algebraic Decomposition\", A, Cowen-Rivers, M. England.  conducted two tests at each stage of the Incremental CAD Process.\n",
    "\n",
    "Test 1 - Solving a randomly generated bi- variate polynomial system, up to degre three.\n",
    "\n",
    "Test 2 - Solving a randomly generated tri- variate polynomial system, up to degree five.\n",
    "\n",
    "The tests were conducted through the maple terminal interface so as to have more accurate calculation timing results, specifically to not include GUI induced bias's such as cached calulcations and pre loaded systems. I conducted 80 repeat experiments of test 1 (each with a unique randomly generated polynomial) and 60 repeat experiments of test 2, similarly each with a unique polynomial. The results saved was the time taken for the calculation and the number of outputs. This two tests were carried out on the beta stage incremental CAD system, beta stage projection stage and the beta stage lift stage. I mention the word beta as we were aware of errors being caused due to using lists of length too great, which was highlighted to be improved upon in future work.\n",
    "\n",
    "## Format of Results File\n",
    "\n",
    "FULLCAD Format: [seconds to complete operation (2dp), number of output solutions]\n",
    "\n",
    "PROJECTION Format: [seconds to complete operation (2dp), number of projection polynomial equations]\n",
    "\n",
    "LIFT Format: [seconds to complete operation (2dp), number of output solutions]\n",
    "\n",
    "\n"
   ]
  },
  {
   "cell_type": "markdown",
   "metadata": {},
   "source": [
    " "
   ]
  },
  {
   "cell_type": "code",
   "execution_count": 1,
   "metadata": {
    "collapsed": false
   },
   "outputs": [],
   "source": [
    "\n",
    "import io\n",
    "import matplotlib.pyplot as plt\n",
    "import numpy as np\n",
    "import scipy.stats as stats\n",
    "import pylab as pl\n"
   ]
  },
  {
   "cell_type": "markdown",
   "metadata": {},
   "source": [
    "# Experiment  Results"
   ]
  },
  {
   "cell_type": "markdown",
   "metadata": {},
   "source": [
    "# Stage 1: Projection"
   ]
  },
  {
   "cell_type": "markdown",
   "metadata": {},
   "source": [
    "## TEST 1\n"
   ]
  },
  {
   "cell_type": "code",
   "execution_count": 2,
   "metadata": {
    "collapsed": false
   },
   "outputs": [],
   "source": [
    "#####################################################################################################\n",
    "#####################################################################################################\n",
    "\n",
    "# SCRIPT TIMES FOR PROJECTION, TEST SET 1 \n",
    "\n",
    "#####################################################################################################\n",
    "#####################################################################################################\n",
    "\n",
    "\n",
    "time=0\n",
    "times=[]\n",
    "time_norm=0\n",
    "times_norm=[]\n",
    "solutions_1=[]\n",
    "solutions_2=[]\n",
    "for i in range(82):\n",
    "    if i!=12 and i!=46:\n",
    "        filename=\"projscripts/Aresultsfullproj\"+str(i+1)+\".txt\"\n",
    "        f = io.open(filename, mode=\"r\", encoding=\"utf-8\").read()\n",
    "        num=float(f.split('[')[1].split(',')[0])\n",
    "        num_1=float(f.split('[')[1].split(',')[1].split(']')[0])\n",
    "        solutions_1.append(num_1)\n",
    "        time_norm+=num\n",
    "        times_norm.append(num)\n",
    "        filename=\"projscripts/Aresultsincproj\"+str(i+1)+\".txt\"\n",
    "        f = io.open(filename, mode=\"r\", encoding=\"utf-8\").read()\n",
    "        num=float(f.split('[')[1].split(',')[0])\n",
    "        num_2=float(f.split('[')[1].split(',')[1].split(']')[0])\n",
    "        solutions_2.append(num_2)\n",
    "\n",
    "        time+=num\n",
    "        times.append(num)"
   ]
  },
  {
   "cell_type": "code",
   "execution_count": 3,
   "metadata": {
    "collapsed": false,
    "scrolled": true
   },
   "outputs": [
    {
     "name": "stdout",
     "output_type": "stream",
     "text": [
      "              ############################# PROJECTION #############################\n",
      "              ############################# TEST 1 #############################\n",
      "                       \n",
      "                       \n",
      "              ############################# PLOT OF CLASSICAL RESULTS #############################\n"
     ]
    },
    {
     "data": {
      "image/png": "[encoded data removed]",
      "text/plain": [
       "<matplotlib.figure.Figure at 0x10b9bb6a0>"
      ]
     },
     "metadata": {},
     "output_type": "display_data"
    },
    {
     "name": "stdout",
     "output_type": "stream",
     "text": [
      "                       \n",
      "             NORMAL METHOD          \n",
      "                       \n",
      "VARIANCE, norm 0.00274286234375\n",
      "mean, norm 0.0673875\n",
      "lower quartile, norm 0.02475\n",
      "median, norm  0.0625\n",
      "upper quartile, norm  0.09425\n",
      "                       \n",
      "             INCREMENTAL METHOD          \n",
      "                       \n",
      "VARIANCE, inc 0.00220505484375\n",
      "mean, inc 0.0480875\n",
      "lower quartile, inc 0.013\n",
      "median, inc  0.035\n",
      "upper quartile, inc  0.07525\n",
      "                       \n",
      "                       \n",
      "#############################################################################################################\n",
      "             COMPARISON TABLE OF INCREMENTAL METHOD TO CLASSICAL         \n",
      "#############################################################################################################\n",
      "                       \n",
      "VARIANCE, inc 24.3897561788 % Larger\n",
      "mean, inc 28.64032647 % Faster\n",
      "lower quartile, inc 47.4747474747 % Faster\n",
      "median, inc  44.0 % Faster\n",
      "upper quartile, inc  20.1591511936 % Faster\n"
     ]
    }
   ],
   "source": [
    "print(\"              ############################# PROJECTION #############################\")\n",
    "print(\"              ############################# TEST 1 #############################\")\n",
    "print(\"                       \")\n",
    "print(\"                       \")\n",
    "\n",
    "print(\"              ############################# PLOT OF CLASSICAL RESULTS #############################\")\n",
    "\n",
    "\n",
    "h=sorted(times_norm)\n",
    "fit = stats.norm.pdf(h, np.mean(h), np.std(h))  #this is a fitting indeed\n",
    "\n",
    "pl.plot(h,fit,'-o')\n",
    "\n",
    "pl.hist(h,bins=16,normed=True)      #use this to draw histogram of your data\n",
    "\n",
    "pl.show() #use may also need add this \n",
    "print(\"                       \")\n",
    "\n",
    "print(\"             NORMAL METHOD          \")\n",
    "print(\"                       \")\n",
    "print(\"VARIANCE, norm\",np.var(h))\n",
    "print(\"mean, norm\",np.mean(h))\n",
    "print(\"lower quartile, norm\",np.percentile(h, 25))\n",
    "print(\"median, norm \",np.percentile(h, 50))\n",
    "print(\"upper quartile, norm \",np.percentile(h, 75))\n",
    "h2=sorted(times)\n",
    "print(\"                       \")\n",
    "print(\"             INCREMENTAL METHOD          \")\n",
    "print(\"                       \")\n",
    "print(\"VARIANCE, inc\",np.var(h2))\n",
    "print(\"mean, inc\",np.mean(h2))\n",
    "print(\"lower quartile, inc\",np.percentile(h2, 25))\n",
    "print(\"median, inc \",np.percentile(h2, 50))\n",
    "print(\"upper quartile, inc \",np.percentile(h2, 75))\n",
    "print(\"                       \")\n",
    "\n",
    "print(\"                       \")\n",
    "print(\"#############################################################################################################\")\n",
    "print(\"             COMPARISON TABLE OF INCREMENTAL METHOD TO CLASSICAL         \")\n",
    "print(\"#############################################################################################################\")\n",
    "print(\"                       \")\n",
    "print(\"VARIANCE, inc\",((np.var(h)*100/np.var(h2)-100)),\"% Larger\")\n",
    "print(\"mean, inc\",(100-(np.mean(h2)*100/np.mean(h))),\"% Faster\")\n",
    "print(\"lower quartile, inc\",(100-(np.percentile(h2, 25)*100/np.percentile(h, 25))),\"% Faster\")\n",
    "print(\"median, inc \",(100-(np.percentile(h2, 50)*100/np.percentile(h, 50))),\"% Faster\")\n",
    "print(\"upper quartile, inc \",(100-(np.percentile(h2, 75)*100/np.percentile(h, 75))),\"% Faster\")"
   ]
  },
  {
   "cell_type": "markdown",
   "metadata": {},
   "source": [
    "## TEST 2\n"
   ]
  },
  {
   "cell_type": "code",
   "execution_count": 4,
   "metadata": {
    "collapsed": true
   },
   "outputs": [],
   "source": [
    "#####################################################################################################\n",
    "#####################################################################################################\n",
    "\n",
    "# SCRIPT TIMES FOR PROJECTION, TEST SET 2\n",
    "\n",
    "#####################################################################################################\n",
    "#####################################################################################################\n",
    "\n",
    "\n",
    "time=0\n",
    "times=[]\n",
    "time_norm=0\n",
    "times_norm=[]\n",
    "solutions_1=[]\n",
    "solutions_2=[]\n",
    "for i in range(101,171):\n",
    "    if i not in [103,105,106,110,112,116,130,144,154,168,175,178,180]: #THESE DID NOT SAVE THE RESULTS PROPERLY, DUE TO LONG LIST ERROR\n",
    "\n",
    "        filename=\"projscripts/Aresultsfullproj\"+str(i+1)+\".txt\"\n",
    "        f = io.open(filename, mode=\"r\", encoding=\"utf-8\").read()\n",
    "        num=float(f.split('[')[1].split(',')[0])\n",
    "        num_1=float(f.split('[')[1].split(',')[1].split(']')[0])\n",
    "        solutions_1.append(num_1)\n",
    "        time_norm+=num\n",
    "        times_norm.append(num)\n",
    "        filename=\"projscripts/Aresultsincproj\"+str(i+1)+\".txt\"\n",
    "        f = io.open(filename, mode=\"r\", encoding=\"utf-8\").read()\n",
    "        num=float(f.split('[')[1].split(',')[0])\n",
    "        num_2=float(f.split('[')[1].split(',')[1].split(']')[0])\n",
    "        solutions_2.append(num_2)\n",
    "        time+=num\n",
    "        times.append(num)"
   ]
  },
  {
   "cell_type": "code",
   "execution_count": 5,
   "metadata": {
    "collapsed": false
   },
   "outputs": [
    {
     "name": "stdout",
     "output_type": "stream",
     "text": [
      "              ############################# PROJECTION #############################\n",
      "              ############################# TEST 2 #############################\n",
      "                       \n",
      "                       \n",
      "              ############################# PLOT OF CLASSICAL RESULTS #############################\n"
     ]
    },
    {
     "data": {
      "image/png": "[encoded data removed]",
      "text/plain": [
       "<matplotlib.figure.Figure at 0x10b9a3ac8>"
      ]
     },
     "metadata": {},
     "output_type": "display_data"
    },
    {
     "name": "stdout",
     "output_type": "stream",
     "text": [
      "                       \n",
      "             NORMAL METHOD          \n",
      "                       \n",
      "VARIANCE, norm 0.000466012222222\n",
      "mean, norm 0.0374333333333\n",
      "lower quartile, norm 0.024\n",
      "median, norm  0.0285\n",
      "upper quartile, norm  0.03675\n",
      "                       \n",
      "             INCREMENTAL METHOD          \n",
      "                       \n",
      "VARIANCE, inc 0.00064245\n",
      "mean, inc 0.0315\n",
      "lower quartile, inc 0.008\n",
      "median, inc  0.015\n",
      "upper quartile, inc  0.05525\n",
      "                       \n",
      "#############################################################################################################\n",
      "             COMPARISON TABLE OF INCREMENTAL METHOD TO CLASSICAL         \n",
      "#############################################################################################################\n",
      "                       \n",
      "VARIANCE, inc -27.4632699475 % Larger\n",
      "mean, inc 15.8504007124 % Faster\n",
      "lower quartile, inc 66.6666666667 % Faster\n",
      "median, inc  47.3684210526 % Faster\n",
      "upper quartile, inc  -50.3401360544 % Faster\n"
     ]
    }
   ],
   "source": [
    "print(\"              ############################# PROJECTION #############################\")\n",
    "print(\"              ############################# TEST 2 #############################\")\n",
    "print(\"                       \")\n",
    "print(\"                       \")\n",
    "\n",
    "print(\"              ############################# PLOT OF CLASSICAL RESULTS #############################\")\n",
    "\n",
    "h=sorted(times_norm)\n",
    "fit = stats.norm.pdf(h, np.mean(h), np.std(h))  #this is a fitting indeed\n",
    "\n",
    "pl.plot(h,fit,'-o')\n",
    "\n",
    "pl.hist(h,bins=16,normed=True)      #use this to draw histogram of your data\n",
    "\n",
    "pl.show() #use may also need add this \n",
    "print(\"                       \")\n",
    "\n",
    "print(\"             NORMAL METHOD          \")\n",
    "print(\"                       \")\n",
    "print(\"VARIANCE, norm\",np.var(h))\n",
    "print(\"mean, norm\",np.mean(h))\n",
    "print(\"lower quartile, norm\",np.percentile(h, 25))\n",
    "print(\"median, norm \",np.percentile(h, 50))\n",
    "print(\"upper quartile, norm \",np.percentile(h, 75))\n",
    "h2=sorted(times)\n",
    "print(\"                       \")\n",
    "print(\"             INCREMENTAL METHOD          \")\n",
    "print(\"                       \")\n",
    "print(\"VARIANCE, inc\",np.var(h2))\n",
    "print(\"mean, inc\",np.mean(h2))\n",
    "print(\"lower quartile, inc\",np.percentile(h2, 25))\n",
    "print(\"median, inc \",np.percentile(h2, 50))\n",
    "print(\"upper quartile, inc \",np.percentile(h2, 75))\n",
    "print(\"                       \")\n",
    "print(\"#############################################################################################################\")\n",
    "print(\"             COMPARISON TABLE OF INCREMENTAL METHOD TO CLASSICAL         \")\n",
    "print(\"#############################################################################################################\")\n",
    "print(\"                       \")\n",
    "print(\"VARIANCE, inc\",((np.var(h)*100/np.var(h2)-100)),\"% Larger\")\n",
    "print(\"mean, inc\",(100-(np.mean(h2)*100/np.mean(h))),\"% Faster\")\n",
    "print(\"lower quartile, inc\",(100-(np.percentile(h2, 25)*100/np.percentile(h, 25))),\"% Faster\")\n",
    "print(\"median, inc \",(100-(np.percentile(h2, 50)*100/np.percentile(h, 50))),\"% Faster\")\n",
    "print(\"upper quartile, inc \",(100-(np.percentile(h2, 75)*100/np.percentile(h, 75))),\"% Faster\")"
   ]
  },
  {
   "cell_type": "code",
   "execution_count": 6,
   "metadata": {
    "collapsed": false
   },
   "outputs": [
    {
     "data": {
      "text/plain": [
       "0.031416"
      ]
     },
     "execution_count": 6,
     "metadata": {},
     "output_type": "execute_result"
    }
   ],
   "source": [
    "0.0374*0.84\n"
   ]
  },
  {
   "cell_type": "markdown",
   "metadata": {},
   "source": [
    "# Stage 2: LIFT"
   ]
  },
  {
   "cell_type": "markdown",
   "metadata": {},
   "source": [
    "## TEST 1\n"
   ]
  },
  {
   "cell_type": "code",
   "execution_count": 7,
   "metadata": {
    "collapsed": false
   },
   "outputs": [],
   "source": [
    "#####################################################################################################\n",
    "#####################################################################################################\n",
    "\n",
    "# SCRIPT TIMES FOR LIFT\n",
    "\n",
    "#####################################################################################################\n",
    "#####################################################################################################\n",
    "\n",
    "\n",
    "time=0\n",
    "times=[]\n",
    "time_norm=0\n",
    "times_norm=[]\n",
    "solutions_1=[]\n",
    "solutions_2=[]\n",
    "for i in range(82):\n",
    "    if i!=12 and i!=46:\n",
    "        \n",
    "        num2=0.0\n",
    "        num=0.0\n",
    "        filename=\"liftscripts/Aresultsfulllift\"+str(i+1)+\".txt\"\n",
    "        f = io.open(filename, mode=\"r\", encoding=\"utf-8\").read()\n",
    "        num=float(f.split('[')[1].split(',')[0])\n",
    "        num_1=float(f.split('[')[1].split(',')[1].split(']')[0])\n",
    "        solutions_1.append(num_1)\n",
    "        time_norm+=num\n",
    "        times_norm.append(num)\n",
    "        filename=\"liftscripts/Aresultsinclift\"+str(i+1)+\".txt\"\n",
    "        f = io.open(filename, mode=\"r\", encoding=\"utf-8\").read()\n",
    "        num=float(f.split('[')[1].split(',')[0])\n",
    "        num_2=float(f.split('[')[1].split(',')[1].split(']')[0])\n",
    "        solutions_2.append(num_2)\n",
    "\n",
    "        time+=num\n",
    "        times.append(num)"
   ]
  },
  {
   "cell_type": "code",
   "execution_count": 8,
   "metadata": {
    "collapsed": false
   },
   "outputs": [
    {
     "name": "stdout",
     "output_type": "stream",
     "text": [
      "              ############################# LIFT #############################\n",
      "              ############################# TEST 1 #############################\n",
      "                       \n",
      "                       \n",
      "              ############################# PLOT OF CLASSICAL RESULTS #############################\n"
     ]
    },
    {
     "data": {
      "image/png": "[encoded data removed]",
      "text/plain": [
       "<matplotlib.figure.Figure at 0x10be7a668>"
      ]
     },
     "metadata": {},
     "output_type": "display_data"
    },
    {
     "name": "stdout",
     "output_type": "stream",
     "text": [
      "                       \n",
      "             NORMAL METHOD          \n",
      "                       \n",
      "VARIANCE, norm 0.0554135860938\n",
      "mean, norm 0.2879625\n",
      "lower quartile, norm 0.1275\n",
      "median, norm  0.207\n",
      "upper quartile, norm  0.3605\n",
      "                       \n",
      "             INCREMENTAL METHOD          \n",
      "                       \n",
      "VARIANCE, inc 0.0683782275\n",
      "mean, inc 0.26865\n",
      "lower quartile, inc 0.0995\n",
      "median, inc  0.164\n",
      "upper quartile, inc  0.35225\n",
      "                       \n",
      "#############################################################################################################\n",
      "             COMPARISON TABLE OF INCREMENTAL METHOD TO CLASSICAL         \n",
      "#############################################################################################################\n",
      "                       \n",
      "VARIANCE, inc -18.9601893472 % Larger\n",
      "mean, inc 6.70660242219 % Faster\n",
      "lower quartile, inc 21.9607843137 % Faster\n",
      "median, inc  20.7729468599 % Faster\n",
      "upper quartile, inc  2.28848821082 % Faster\n"
     ]
    }
   ],
   "source": [
    "print(\"              ############################# LIFT #############################\")\n",
    "print(\"              ############################# TEST 1 #############################\")\n",
    "print(\"                       \")\n",
    "print(\"                       \")\n",
    "print(\"              ############################# PLOT OF CLASSICAL RESULTS #############################\")\n",
    "\n",
    "h=sorted(times_norm)\n",
    "fit = stats.norm.pdf(h, np.mean(h), np.std(h))  #this is a fitting indeed\n",
    "\n",
    "pl.plot(h,fit,'-o')\n",
    "\n",
    "pl.hist(h,bins=16,normed=True)      #use this to draw histogram of your data\n",
    "\n",
    "pl.show() #use may also need add this \n",
    "print(\"                       \")\n",
    "\n",
    "print(\"             NORMAL METHOD          \")\n",
    "print(\"                       \")\n",
    "print(\"VARIANCE, norm\",np.var(h))\n",
    "print(\"mean, norm\",np.mean(h))\n",
    "print(\"lower quartile, norm\",np.percentile(h, 25))\n",
    "print(\"median, norm \",np.percentile(h, 50))\n",
    "print(\"upper quartile, norm \",np.percentile(h, 75))\n",
    "h2=sorted(times)\n",
    "print(\"                       \")\n",
    "print(\"             INCREMENTAL METHOD          \")\n",
    "print(\"                       \")\n",
    "print(\"VARIANCE, inc\",np.var(h2))\n",
    "print(\"mean, inc\",np.mean(h2))\n",
    "print(\"lower quartile, inc\",np.percentile(h2, 25))\n",
    "print(\"median, inc \",np.percentile(h2, 50))\n",
    "print(\"upper quartile, inc \",np.percentile(h2, 75))\n",
    "print(\"                       \")\n",
    "\n",
    "print(\"#############################################################################################################\")\n",
    "print(\"             COMPARISON TABLE OF INCREMENTAL METHOD TO CLASSICAL         \")\n",
    "print(\"#############################################################################################################\")\n",
    "print(\"                       \")\n",
    "print(\"VARIANCE, inc\",((np.var(h)*100/np.var(h2)-100)),\"% Larger\")\n",
    "print(\"mean, inc\",(100-(np.mean(h2)*100/np.mean(h))),\"% Faster\")\n",
    "print(\"lower quartile, inc\",(100-(np.percentile(h2, 25)*100/np.percentile(h, 25))),\"% Faster\")\n",
    "print(\"median, inc \",(100-(np.percentile(h2, 50)*100/np.percentile(h, 50))),\"% Faster\")\n",
    "print(\"upper quartile, inc \",(100-(np.percentile(h2, 75)*100/np.percentile(h, 75))),\"% Faster\")"
   ]
  },
  {
   "cell_type": "markdown",
   "metadata": {},
   "source": [
    "## Test 2"
   ]
  },
  {
   "cell_type": "code",
   "execution_count": 9,
   "metadata": {
    "collapsed": false
   },
   "outputs": [],
   "source": [
    "#####################################################################################################\n",
    "#####################################################################################################\n",
    "\n",
    "# SCRIPT TIMES FOR LIFT - TEST 2\n",
    "\n",
    "#####################################################################################################\n",
    "#####################################################################################################\n",
    "\n",
    "\n",
    "time=0\n",
    "times=[]\n",
    "time_norm=0\n",
    "times_norm=[]\n",
    "solutions_1=[]\n",
    "solutions_2=[]\n",
    "for i in range(101,171):\n",
    "    if i not in [103,105,106,110,112,116,130,144,154,168,175,178,180]: #THESE DID NOT SAVE THE RESULTS PROPERLY, DUE TO LONG LIST ERROR\n",
    "        num2=0.0\n",
    "        num=0.0\n",
    "        filename=\"liftscripts/Aresultsfulllift\"+str(i+1)+\".txt\"\n",
    "        f = io.open(filename, mode=\"r\", encoding=\"utf-8\").read()\n",
    "        num=float(f.split('[')[1].split(',')[0])\n",
    "        num_1=float(f.split('[')[1].split(',')[1].split(']')[0])\n",
    "        solutions_1.append(num_1)\n",
    "        time_norm+=num\n",
    "        times_norm.append(num)\n",
    "        filename=\"liftscripts/Aresultsinclift\"+str(i+1)+\".txt\"\n",
    "        f = io.open(filename, mode=\"r\", encoding=\"utf-8\").read()\n",
    "        num=float(f.split('[')[1].split(',')[0])\n",
    "        num_2=float(f.split('[')[1].split(',')[1].split(']')[0])\n",
    "        solutions_2.append(num_2)\n",
    "\n",
    "        time+=num\n",
    "        times.append(num)"
   ]
  },
  {
   "cell_type": "code",
   "execution_count": 10,
   "metadata": {
    "collapsed": false
   },
   "outputs": [
    {
     "data": {
      "text/plain": [
       "60"
      ]
     },
     "execution_count": 10,
     "metadata": {},
     "output_type": "execute_result"
    }
   ],
   "source": [
    "len(times)"
   ]
  },
  {
   "cell_type": "code",
   "execution_count": 11,
   "metadata": {
    "collapsed": false
   },
   "outputs": [
    {
     "name": "stdout",
     "output_type": "stream",
     "text": [
      "              ############################# LIFT #############################\n",
      "              ############################# TEST 2 #############################\n",
      "                       \n",
      "                       \n",
      "              ############################# PLOT OF CLASSICAL RESULTS #############################\n"
     ]
    },
    {
     "data": {
      "image/png": "[encoded data removed]",
      "text/plain": [
       "<matplotlib.figure.Figure at 0x10b9a3c18>"
      ]
     },
     "metadata": {},
     "output_type": "display_data"
    },
    {
     "name": "stdout",
     "output_type": "stream",
     "text": [
      "                       \n",
      "             NORMAL METHOD          \n",
      "                       \n",
      "VARIANCE, norm 0.00373416\n",
      "mean, norm 0.1778\n",
      "lower quartile, norm 0.13275\n",
      "median, norm  0.163\n",
      "upper quartile, norm  0.226\n",
      "                       \n",
      "             INCREMENTAL METHOD          \n",
      "                       \n",
      "VARIANCE, inc 0.00290294972222\n",
      "mean, inc 0.124016666667\n",
      "lower quartile, inc 0.089\n",
      "median, inc  0.1255\n",
      "upper quartile, inc  0.163\n",
      "                       \n",
      "#############################################################################################################\n",
      "             COMPARISON TABLE OF INCREMENTAL METHOD TO CLASSICAL         \n",
      "#############################################################################################################\n",
      "                       \n",
      "VARIANCE, inc 28.6332991376 % Larger\n",
      "mean, inc 30.249343832 % Faster\n",
      "lower quartile, inc 32.9566854991 % Faster\n",
      "median, inc  23.0061349693 % Faster\n",
      "upper quartile, inc  27.8761061947 % Faster\n"
     ]
    }
   ],
   "source": [
    "print(\"              ############################# LIFT #############################\")\n",
    "print(\"              ############################# TEST 2 #############################\")\n",
    "print(\"                       \")\n",
    "print(\"                       \")\n",
    "\n",
    "print(\"              ############################# PLOT OF CLASSICAL RESULTS #############################\")\n",
    "\n",
    "h=sorted(times_norm)\n",
    "fit = stats.norm.pdf(h, np.mean(h), np.std(h))  #this is a fitting indeed\n",
    "\n",
    "pl.plot(h,fit,'-o')\n",
    "\n",
    "pl.hist(h,bins=16,normed=True)      #use this to draw histogram of your data\n",
    "\n",
    "pl.show() #use may also need add this \n",
    "print(\"                       \")\n",
    "\n",
    "print(\"             NORMAL METHOD          \")\n",
    "print(\"                       \")\n",
    "print(\"VARIANCE, norm\",np.var(h))\n",
    "print(\"mean, norm\",np.mean(h))\n",
    "print(\"lower quartile, norm\",np.percentile(h, 25))\n",
    "print(\"median, norm \",np.percentile(h, 50))\n",
    "print(\"upper quartile, norm \",np.percentile(h, 75))\n",
    "h2=sorted(times)\n",
    "print(\"                       \")\n",
    "print(\"             INCREMENTAL METHOD          \")\n",
    "print(\"                       \")\n",
    "print(\"VARIANCE, inc\",np.var(h2))\n",
    "print(\"mean, inc\",np.mean(h2))\n",
    "print(\"lower quartile, inc\",np.percentile(h2, 25))\n",
    "print(\"median, inc \",np.percentile(h2, 50))\n",
    "print(\"upper quartile, inc \",np.percentile(h2, 75))\n",
    "print(\"                       \")\n",
    "\n",
    "print(\"#############################################################################################################\")\n",
    "print(\"             COMPARISON TABLE OF INCREMENTAL METHOD TO CLASSICAL         \")\n",
    "print(\"#############################################################################################################\")\n",
    "print(\"                       \")\n",
    "print(\"VARIANCE, inc\",((np.var(h)*100/np.var(h2)-100)),\"% Larger\")\n",
    "print(\"mean, inc\",(100-(np.mean(h2)*100/np.mean(h))),\"% Faster\")\n",
    "print(\"lower quartile, inc\",(100-(np.percentile(h2, 25)*100/np.percentile(h, 25))),\"% Faster\")\n",
    "print(\"median, inc \",(100-(np.percentile(h2, 50)*100/np.percentile(h, 50))),\"% Faster\")\n",
    "print(\"upper quartile, inc \",(100-(np.percentile(h2, 75)*100/np.percentile(h, 75))),\"% Faster\")"
   ]
  },
  {
   "cell_type": "code",
   "execution_count": null,
   "metadata": {
    "collapsed": true
   },
   "outputs": [],
   "source": []
  },
  {
   "cell_type": "markdown",
   "metadata": {},
   "source": [
    "# Stage 3: FULL CAD"
   ]
  },
  {
   "cell_type": "markdown",
   "metadata": {},
   "source": [
    "## TEST 1"
   ]
  },
  {
   "cell_type": "code",
   "execution_count": 12,
   "metadata": {
    "collapsed": true
   },
   "outputs": [],
   "source": [
    "#####################################################################################################\n",
    "#####################################################################################################\n",
    "\n",
    "# SCRIPT TIMES FOR LIFT\n",
    "\n",
    "#####################################################################################################\n",
    "#####################################################################################################\n",
    "\n",
    "\n",
    "time=0\n",
    "times=[]\n",
    "time_norm=0\n",
    "times_norm=[]\n",
    "solutions_1=[]\n",
    "solutions_2=[]\n",
    "for i in range(82):\n",
    "    if i!=12 and i!=46:\n",
    "        \n",
    "        num2=0.0\n",
    "        num=0.0\n",
    "        filename=\"CAD_SCRIPTS/Aresultsfull\"+str(i+1)+\".txt\"\n",
    "        f = io.open(filename, mode=\"r\", encoding=\"utf-8\").read()\n",
    "        num=float(f.split('[')[1].split(',')[0])\n",
    "        num_1=float(f.split('[')[1].split(',')[1].split(']')[0])\n",
    "        solutions_1.append(num_1)\n",
    "        time_norm+=num\n",
    "        times_norm.append(num)\n",
    "        filename=\"CAD_SCRIPTS/Aresultsinc\"+str(i+1)+\".txt\"\n",
    "        f = io.open(filename, mode=\"r\", encoding=\"utf-8\").read()\n",
    "        num=float(f.split('[')[1].split(',')[0])\n",
    "        num_2=float(f.split('[')[1].split(',')[1].split(']')[0])\n",
    "        solutions_2.append(num_2)\n",
    "\n",
    "        time+=num\n",
    "        times.append(num)"
   ]
  },
  {
   "cell_type": "code",
   "execution_count": 13,
   "metadata": {
    "collapsed": false
   },
   "outputs": [
    {
     "name": "stdout",
     "output_type": "stream",
     "text": [
      "              ############################# FULL CAD #############################\n",
      "              ############################# TEST 1 #############################\n",
      "                       \n",
      "                       \n",
      "              ############################# PLOT OF CLASSICAL RESULTS #############################\n"
     ]
    },
    {
     "data": {
      "image/png": "[encoded data removed]",
      "text/plain": [
       "<matplotlib.figure.Figure at 0x10be94be0>"
      ]
     },
     "metadata": {},
     "output_type": "display_data"
    },
    {
     "name": "stdout",
     "output_type": "stream",
     "text": [
      "                       \n",
      "             NORMAL METHOD          \n",
      "                       \n",
      "VARIANCE, norm 0.0588040810937\n",
      "mean, norm 0.3296375\n",
      "lower quartile, norm 0.174\n",
      "median, norm  0.24\n",
      "upper quartile, norm  0.411\n",
      "                       \n",
      "             INCREMENTAL METHOD          \n",
      "                       \n",
      "VARIANCE, inc 0.0851679560938\n",
      "mean, inc 0.2907625\n",
      "lower quartile, inc 0.1305\n",
      "median, inc  0.182\n",
      "upper quartile, inc  0.3435\n",
      "                       \n",
      "#############################################################################################################\n",
      "             COMPARISON TABLE OF INCREMENTAL METHOD TO CLASSICAL         \n",
      "                       \n",
      "#############################################################################################################\n",
      "VARIANCE, inc -30.9551575606 % Larger\n",
      "mean, inc 11.7932577453 % Faster\n",
      "lower quartile, inc 25.0 % Faster\n",
      "median, inc  24.1666666667 % Faster\n",
      "upper quartile, inc  16.4233576642 % Faster\n"
     ]
    }
   ],
   "source": [
    "print(\"              ############################# FULL CAD #############################\")\n",
    "print(\"              ############################# TEST 1 #############################\")\n",
    "print(\"                       \")\n",
    "print(\"                       \")\n",
    "print(\"              ############################# PLOT OF CLASSICAL RESULTS #############################\")\n",
    "\n",
    "h=sorted(times_norm)\n",
    "fit = stats.norm.pdf(h, np.mean(h), np.std(h))  #this is a fitting indeed\n",
    "\n",
    "pl.plot(h,fit,'-o')\n",
    "\n",
    "pl.hist(h,bins=16,normed=True)      #use this to draw histogram of your data\n",
    "\n",
    "pl.show() #use may also need add this \n",
    "print(\"                       \")\n",
    "\n",
    "print(\"             NORMAL METHOD          \")\n",
    "print(\"                       \")\n",
    "print(\"VARIANCE, norm\",np.var(h))\n",
    "print(\"mean, norm\",np.mean(h))\n",
    "print(\"lower quartile, norm\",np.percentile(h, 25))\n",
    "print(\"median, norm \",np.percentile(h, 50))\n",
    "print(\"upper quartile, norm \",np.percentile(h, 75))\n",
    "h2=sorted(times)\n",
    "print(\"                       \")\n",
    "print(\"             INCREMENTAL METHOD          \")\n",
    "print(\"                       \")\n",
    "print(\"VARIANCE, inc\",np.var(h2))\n",
    "print(\"mean, inc\",np.mean(h2))\n",
    "print(\"lower quartile, inc\",np.percentile(h2, 25))\n",
    "print(\"median, inc \",np.percentile(h2, 50))\n",
    "print(\"upper quartile, inc \",np.percentile(h2, 75))\n",
    "print(\"                       \")\n",
    "\n",
    "print(\"#############################################################################################################\")\n",
    "print(\"             COMPARISON TABLE OF INCREMENTAL METHOD TO CLASSICAL         \")\n",
    "print(\"                       \")\n",
    "print(\"#############################################################################################################\")\n",
    "print(\"VARIANCE, inc\",((np.var(h)*100/np.var(h2)-100)),\"% Larger\")\n",
    "print(\"mean, inc\",(100-(np.mean(h2)*100/np.mean(h))),\"% Faster\")\n",
    "print(\"lower quartile, inc\",(100-(np.percentile(h2, 25)*100/np.percentile(h, 25))),\"% Faster\")\n",
    "print(\"median, inc \",(100-(np.percentile(h2, 50)*100/np.percentile(h, 50))),\"% Faster\")\n",
    "print(\"upper quartile, inc \",(100-(np.percentile(h2, 75)*100/np.percentile(h, 75))),\"% Faster\")"
   ]
  },
  {
   "cell_type": "markdown",
   "metadata": {},
   "source": [
    "## TEST 2"
   ]
  },
  {
   "cell_type": "code",
   "execution_count": 14,
   "metadata": {
    "collapsed": false
   },
   "outputs": [],
   "source": [
    "#####################################################################################################\n",
    "#####################################################################################################\n",
    "\n",
    "# SCRIPT TIMES FOR LIFT\n",
    "\n",
    "#####################################################################################################\n",
    "#####################################################################################################\n",
    "\n",
    "\n",
    "time=0\n",
    "times=[]\n",
    "time_norm=0\n",
    "times_norm=[]\n",
    "solutions_1=[]\n",
    "solutions_2=[]\n",
    "for i in range(101,171):\n",
    "    if i not in [103,105,106,110,112,116,130,144,154,168,175,178,180]: #THESE DID NOT SAVE THE RESULTS PROPERLY, DUE TO LONG LIST ERROR\n",
    "        \n",
    "        num2=0.0\n",
    "        num=0.0\n",
    "        filename=\"CAD_SCRIPTS/Aresultsfull\"+str(i+1)+\".txt\"\n",
    "        f = io.open(filename, mode=\"r\", encoding=\"utf-8\").read()\n",
    "        num=float(f.split('[')[1].split(',')[0])\n",
    "        num_1=float(f.split('[')[1].split(',')[1].split(']')[0])\n",
    "        solutions_1.append(num_1)\n",
    "        time_norm+=num\n",
    "        times_norm.append(num)\n",
    "        filename=\"CAD_SCRIPTS/Aresultsinc\"+str(i+1)+\".txt\"\n",
    "        f = io.open(filename, mode=\"r\", encoding=\"utf-8\").read()\n",
    "        num=float(f.split('[')[1].split(',')[0])\n",
    "        num_2=float(f.split('[')[1].split(',')[1].split(']')[0])\n",
    "        solutions_2.append(num_2)\n",
    "\n",
    "        time+=num\n",
    "        times.append(num)"
   ]
  },
  {
   "cell_type": "code",
   "execution_count": 15,
   "metadata": {
    "collapsed": false
   },
   "outputs": [
    {
     "name": "stdout",
     "output_type": "stream",
     "text": [
      "              ############################# FULL CAD #############################\n",
      "              ############################# TEST 2 #############################\n",
      "                       \n",
      "                       \n",
      "              ############################# PLOT OF CLASSICAL RESULTS #############################\n"
     ]
    },
    {
     "data": {
      "image/png": "[encoded data removed]",
      "text/plain": [
       "<matplotlib.figure.Figure at 0x10be2a908>"
      ]
     },
     "metadata": {},
     "output_type": "display_data"
    },
    {
     "name": "stdout",
     "output_type": "stream",
     "text": [
      "                       \n",
      "             NORMAL METHOD          \n",
      "                       \n",
      "VARIANCE, norm 0.00389552333333\n",
      "mean, norm 0.2089\n",
      "lower quartile, norm 0.153\n",
      "median, norm  0.22\n",
      "upper quartile, norm  0.25025\n",
      "                       \n",
      "             INCREMENTAL METHOD          \n",
      "                       \n",
      "VARIANCE, inc 0.0027100275\n",
      "mean, inc 0.13135\n",
      "lower quartile, inc 0.101\n",
      "median, inc  0.1305\n",
      "upper quartile, inc  0.16325\n",
      "                       \n",
      "#############################################################################################################\n",
      "             COMPARISON TABLE OF INCREMENTAL METHOD TO CLASSICAL         \n",
      "#############################################################################################################\n",
      "                       \n",
      "VARIANCE, inc 43.7447897976 % Larger\n",
      "mean, inc 37.123025371 % Faster\n",
      "lower quartile, inc 33.9869281046 % Faster\n",
      "median, inc  40.6818181818 % Faster\n",
      "upper quartile, inc  34.7652347652 % Faster\n"
     ]
    }
   ],
   "source": [
    "\n",
    "print(\"              ############################# FULL CAD #############################\")\n",
    "print(\"              ############################# TEST 2 #############################\")\n",
    "print(\"                       \")\n",
    "print(\"                       \")\n",
    "\n",
    "print(\"              ############################# PLOT OF CLASSICAL RESULTS #############################\")\n",
    "\n",
    "      \n",
    "h=sorted(times_norm)\n",
    "fit = stats.norm.pdf(h, np.mean(h), np.std(h))  #this is a fitting indeed\n",
    "\n",
    "pl.plot(h,fit,'-o')\n",
    "\n",
    "pl.hist(h,bins=16,normed=True)      #use this to draw histogram of your data\n",
    "\n",
    "pl.show() #use may also need add this \n",
    "print(\"                       \")\n",
    "\n",
    "print(\"             NORMAL METHOD          \")\n",
    "print(\"                       \")\n",
    "print(\"VARIANCE, norm\",np.var(h))\n",
    "print(\"mean, norm\",np.mean(h))\n",
    "print(\"lower quartile, norm\",np.percentile(h, 25))\n",
    "print(\"median, norm \",np.percentile(h, 50))\n",
    "print(\"upper quartile, norm \",np.percentile(h, 75))\n",
    "h2=sorted(times)\n",
    "print(\"                       \")\n",
    "print(\"             INCREMENTAL METHOD          \")\n",
    "print(\"                       \")\n",
    "print(\"VARIANCE, inc\",np.var(h2))\n",
    "print(\"mean, inc\",np.mean(h2))\n",
    "print(\"lower quartile, inc\",np.percentile(h2, 25))\n",
    "print(\"median, inc \",np.percentile(h2, 50))\n",
    "print(\"upper quartile, inc \",np.percentile(h2, 75))\n",
    "print(\"                       \")\n",
    "\n",
    "print(\"#############################################################################################################\")\n",
    "print(\"             COMPARISON TABLE OF INCREMENTAL METHOD TO CLASSICAL         \")\n",
    "print(\"#############################################################################################################\")\n",
    "print(\"                       \")\n",
    "print(\"VARIANCE, inc\",((np.var(h)*100/np.var(h2)-100)),\"% Larger\")\n",
    "print(\"mean, inc\",(100-(np.mean(h2)*100/np.mean(h))),\"% Faster\")\n",
    "print(\"lower quartile, inc\",(100-(np.percentile(h2, 25)*100/np.percentile(h, 25))),\"% Faster\")\n",
    "print(\"median, inc \",(100-(np.percentile(h2, 50)*100/np.percentile(h, 50))),\"% Faster\")\n",
    "print(\"upper quartile, inc \",(100-(np.percentile(h2, 75)*100/np.percentile(h, 75))),\"% Faster\")"
   ]
  },
  {
   "cell_type": "code",
   "execution_count": null,
   "metadata": {
    "collapsed": true
   },
   "outputs": [],
   "source": []
  },
  {
   "cell_type": "code",
   "execution_count": null,
   "metadata": {
    "collapsed": true
   },
   "outputs": [],
   "source": []
  },
  {
   "cell_type": "code",
   "execution_count": null,
   "metadata": {
    "collapsed": true
   },
   "outputs": [],
   "source": []
  }
 ],
 "metadata": {
  "anaconda-cloud": {},
  "kernelspec": {
   "display_name": "Python [default]",
   "language": "python",
   "name": "python3"
  },
  "language_info": {
   "codemirror_mode": {
    "name": "ipython",
    "version": 3
   },
   "file_extension": ".py",
   "mimetype": "text/x-python",
   "name": "python",
   "nbconvert_exporter": "python",
   "pygments_lexer": "ipython3",
   "version": "3.5.3"
  }
 },
 "nbformat": 4,
 "nbformat_minor": 1
}
